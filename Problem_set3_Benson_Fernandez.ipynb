{
 "cells": [
  {
   "cell_type": "markdown",
   "id": "6b39469b",
   "metadata": {},
   "source": [
    "<center><h1>Problem Set 3 BDAT 1004 Data Programming</h1></center>\n"
   ]
  },
  {
   "cell_type": "markdown",
   "id": "0f0d76d0",
   "metadata": {},
   "source": [
    "<center><h1>Benson Fernandez</h1></center>"
   ]
  },
  {
   "cell_type": "markdown",
   "id": "acd4699a",
   "metadata": {},
   "source": [
    "## List of libraries"
   ]
  },
  {
   "cell_type": "code",
   "execution_count": 177,
   "id": "5a97ae4a",
   "metadata": {},
   "outputs": [],
   "source": [
    "import pandas as pd\n",
    "import numpy as np\n",
    "import matplotlib.pyplot as plt"
   ]
  },
  {
   "cell_type": "markdown",
   "id": "8c9e4cd2",
   "metadata": {},
   "source": [
    "## Question 1: Occupations\n",
    "\n",
    "**Introduction:**  \n",
    "Special thanks to [justmarkham](https://github.com/justmarkham) for sharing the dataset and materials.\n",
    "\n",
    "**Step 1:** Import the necessary libraries  \n",
    "**Step 2:** Import the dataset from this address.  \n",
    "**Step 3:** Assign it to a variable called `users`  \n",
    "**Step 4:** Discover the mean age per occupation  \n",
    "**Step 5:** Discover the Male ratio per occupation and sort it from the most to the least  \n",
    "**Step 6:** For each occupation, calculate the minimum and maximum ages  \n",
    "**Step 7:** For each combination of occupation and sex, calculate the mean age  \n",
    "**Step 8:** For each occupation, present the percentage of women and men\n"
   ]
  },
  {
   "cell_type": "code",
   "execution_count": 178,
   "id": "07c5155b",
   "metadata": {},
   "outputs": [],
   "source": [
    "url = \"https://raw.githubusercontent.com/justmarkham/DAT8/master/data/u.user\"\n",
    "users = pd.read_csv(url, sep='|')\n",
    "mean_age_per_occupation = users.groupby('occupation')['age'].mean()\n",
    "male_ratio_per_occupation = users[users['gender'] == 'M'].groupby('occupation')['gender'].count() / users.groupby('occupation')['gender'].count()\n",
    "male_ratio_per_occupation_sorted = male_ratio_per_occupation.sort_values(ascending=False)\n",
    "min_max_ages_per_occupation = users.groupby('occupation')['age'].agg(['min', 'max'])\n",
    "mean_age_per_combination = users.groupby(['occupation', 'gender'])['age'].mean()\n",
    "\n",
    "gender_percentage_per_occupation = users.groupby(['occupation', 'gender'])['gender'].count() / users.groupby('occupation')['gender'].count() * 100\n"
   ]
  },
  {
   "cell_type": "markdown",
   "id": "9596bf10",
   "metadata": {},
   "source": [
    "**Step 4:** Discover the mean age per occupation  "
   ]
  },
  {
   "cell_type": "code",
   "execution_count": 179,
   "id": "f535ac8e",
   "metadata": {},
   "outputs": [
    {
     "name": "stdout",
     "output_type": "stream",
     "text": [
      "Average Age per Occupation:\n",
      "occupation\n",
      "administrator    38.746835\n",
      "artist           31.392857\n",
      "doctor           43.571429\n",
      "educator         42.010526\n",
      "engineer         36.388060\n",
      "entertainment    29.222222\n",
      "executive        38.718750\n",
      "healthcare       41.562500\n",
      "homemaker        32.571429\n",
      "lawyer           36.750000\n",
      "librarian        40.000000\n",
      "marketing        37.615385\n",
      "none             26.555556\n",
      "other            34.523810\n",
      "programmer       33.121212\n",
      "retired          63.071429\n",
      "salesman         35.666667\n",
      "scientist        35.548387\n",
      "student          22.081633\n",
      "technician       33.148148\n",
      "writer           36.311111\n",
      "Name: age, dtype: float64\n"
     ]
    }
   ],
   "source": [
    "# Display the results\n",
    "print(\"Average Age per Occupation:\")\n",
    "print(occupation_mean_age)"
   ]
  },
  {
   "cell_type": "markdown",
   "id": "3c0f8778",
   "metadata": {},
   "source": [
    "**Step 5:** Discover the Male ratio per occupation and sort it from the most to the least "
   ]
  },
  {
   "cell_type": "code",
   "execution_count": 180,
   "id": "c656bbbd",
   "metadata": {},
   "outputs": [
    {
     "name": "stdout",
     "output_type": "stream",
     "text": [
      "\n",
      "Male Ratio per Occupation (Sorted):\n",
      "occupation\n",
      "doctor           1.000000\n",
      "engineer         0.970149\n",
      "technician       0.962963\n",
      "retired          0.928571\n",
      "programmer       0.909091\n",
      "executive        0.906250\n",
      "scientist        0.903226\n",
      "entertainment    0.888889\n",
      "lawyer           0.833333\n",
      "salesman         0.750000\n",
      "educator         0.726316\n",
      "student          0.693878\n",
      "other            0.657143\n",
      "marketing        0.615385\n",
      "writer           0.577778\n",
      "none             0.555556\n",
      "administrator    0.544304\n",
      "artist           0.535714\n",
      "librarian        0.431373\n",
      "healthcare       0.312500\n",
      "homemaker        0.142857\n",
      "Name: gender, dtype: float64\n"
     ]
    }
   ],
   "source": [
    "print(\"\\nMale Ratio per Occupation (Sorted):\")\n",
    "print(sorted_male_ratio)"
   ]
  },
  {
   "cell_type": "markdown",
   "id": "5f8138a6",
   "metadata": {},
   "source": [
    "**Step 6:** For each occupation, calculate the minimum and maximum ages  "
   ]
  },
  {
   "cell_type": "code",
   "execution_count": 181,
   "id": "c09304d7",
   "metadata": {},
   "outputs": [
    {
     "name": "stdout",
     "output_type": "stream",
     "text": [
      "\n",
      "Age Range per Occupation:\n",
      "               min  max\n",
      "occupation             \n",
      "administrator   21   70\n",
      "artist          19   48\n",
      "doctor          28   64\n",
      "educator        23   63\n",
      "engineer        22   70\n",
      "entertainment   15   50\n",
      "executive       22   69\n",
      "healthcare      22   62\n",
      "homemaker       20   50\n",
      "lawyer          21   53\n",
      "librarian       23   69\n",
      "marketing       24   55\n",
      "none            11   55\n",
      "other           13   64\n",
      "programmer      20   63\n",
      "retired         51   73\n",
      "salesman        18   66\n",
      "scientist       23   55\n",
      "student          7   42\n",
      "technician      21   55\n",
      "writer          18   60\n"
     ]
    }
   ],
   "source": [
    "print(\"\\nAge Range per Occupation:\")\n",
    "print(occupation_age_range)"
   ]
  },
  {
   "cell_type": "markdown",
   "id": "96fd5313",
   "metadata": {},
   "source": [
    "**Step 7:** For each combination of occupation and sex, calculate the mean age  "
   ]
  },
  {
   "cell_type": "code",
   "execution_count": 182,
   "id": "6a922887",
   "metadata": {},
   "outputs": [
    {
     "name": "stdout",
     "output_type": "stream",
     "text": [
      "\n",
      "Average Age per Combination of Occupation and Gender:\n",
      "occupation     gender\n",
      "administrator  F         40.638889\n",
      "               M         37.162791\n",
      "artist         F         30.307692\n",
      "               M         32.333333\n",
      "doctor         M         43.571429\n",
      "educator       F         39.115385\n",
      "               M         43.101449\n",
      "engineer       F         29.500000\n",
      "               M         36.600000\n",
      "entertainment  F         31.000000\n",
      "               M         29.000000\n",
      "executive      F         44.000000\n",
      "               M         38.172414\n",
      "healthcare     F         39.818182\n",
      "               M         45.400000\n",
      "homemaker      F         34.166667\n",
      "               M         23.000000\n",
      "lawyer         F         39.500000\n",
      "               M         36.200000\n",
      "librarian      F         40.000000\n",
      "               M         40.000000\n",
      "marketing      F         37.200000\n",
      "               M         37.875000\n",
      "none           F         36.500000\n",
      "               M         18.600000\n",
      "other          F         35.472222\n",
      "               M         34.028986\n",
      "programmer     F         32.166667\n",
      "               M         33.216667\n",
      "retired        F         70.000000\n",
      "               M         62.538462\n",
      "salesman       F         27.000000\n",
      "               M         38.555556\n",
      "scientist      F         28.333333\n",
      "               M         36.321429\n",
      "student        F         20.750000\n",
      "               M         22.669118\n",
      "technician     F         38.000000\n",
      "               M         32.961538\n",
      "writer         F         37.631579\n",
      "               M         35.346154\n",
      "Name: age, dtype: float64\n"
     ]
    }
   ],
   "source": [
    "print(\"\\nAverage Age per Combination of Occupation and Gender:\")\n",
    "print(occupation_gender_mean_age)"
   ]
  },
  {
   "cell_type": "markdown",
   "id": "1a423232",
   "metadata": {},
   "source": [
    "**Step 8:** For each occupation, present the percentage of women and men"
   ]
  },
  {
   "cell_type": "code",
   "execution_count": 183,
   "id": "78bf76c8",
   "metadata": {},
   "outputs": [
    {
     "name": "stdout",
     "output_type": "stream",
     "text": [
      "\n",
      "Gender Percentage per Occupation:\n",
      "occupation     gender\n",
      "administrator  F          45.569620\n",
      "               M          54.430380\n",
      "artist         F          46.428571\n",
      "               M          53.571429\n",
      "doctor         M         100.000000\n",
      "educator       F          27.368421\n",
      "               M          72.631579\n",
      "engineer       F           2.985075\n",
      "               M          97.014925\n",
      "entertainment  F          11.111111\n",
      "               M          88.888889\n",
      "executive      F           9.375000\n",
      "               M          90.625000\n",
      "healthcare     F          68.750000\n",
      "               M          31.250000\n",
      "homemaker      F          85.714286\n",
      "               M          14.285714\n",
      "lawyer         F          16.666667\n",
      "               M          83.333333\n",
      "librarian      F          56.862745\n",
      "               M          43.137255\n",
      "marketing      F          38.461538\n",
      "               M          61.538462\n",
      "none           F          44.444444\n",
      "               M          55.555556\n",
      "other          F          34.285714\n",
      "               M          65.714286\n",
      "programmer     F           9.090909\n",
      "               M          90.909091\n",
      "retired        F           7.142857\n",
      "               M          92.857143\n",
      "salesman       F          25.000000\n",
      "               M          75.000000\n",
      "scientist      F           9.677419\n",
      "               M          90.322581\n",
      "student        F          30.612245\n",
      "               M          69.387755\n",
      "technician     F           3.703704\n",
      "               M          96.296296\n",
      "writer         F          42.222222\n",
      "               M          57.777778\n",
      "Name: gender, dtype: float64\n"
     ]
    }
   ],
   "source": [
    "print(\"\\nGender Percentage per Occupation:\")\n",
    "print(occupation_gender_percentage)"
   ]
  },
  {
   "cell_type": "markdown",
   "id": "34caa897",
   "metadata": {},
   "source": [
    "## Question 2: Euro Teams\n",
    "\n",
    "**Step 1.** Import the necessary libraries  \n",
    "**Step 2.** Import the dataset from this address  \n",
    "**Step 3.** Assign it to a variable called `euro12`  \n",
    "**Step 4.** Select only the Goal column  \n",
    "**Step 5.** How many teams participated in the Euro 2012?  \n",
    "**Step 6.** What is the number of columns in the dataset?  \n",
    "**Step 7.** View only the columns Team, Yellow Cards, and Red Cards and assign them to a dataframe called `discipline`  \n",
    "**Step 8.** Sort the teams by Red Cards, then by Yellow Cards  \n",
    "**Step 9.** Calculate the mean Yellow Cards given per Team  \n",
    "**Step 10.** Filter teams that scored more than 6 goals  \n",
    "**Step 11.** Select the teams that start with the letter \"G\"  \n",
    "**Step 12.** Select the first 7 columns  \n",
    "**Step 13.** Select all columns except the last 3  \n",
    "**Step 14.** Present only the Shooting Accuracy from the teams England, Italy, and Russia\n"
   ]
  },
  {
   "cell_type": "code",
   "execution_count": 184,
   "id": "0258914e",
   "metadata": {},
   "outputs": [],
   "source": [
    "import pandas as pd\n",
    "url = \"https://raw.githubusercontent.com/guipsamora/pandas_exercises/master/02_Filtering_%26_Sorting/Euro12/Euro_2012_stats_TEAM.csv\"\n",
    "euro12 = pd.read_csv(url)\n",
    "goals_column = euro12['Goals']\n",
    "num_teams = euro12.shape[0]  # Number of rows in the dataframe\n",
    "num_columns = euro12.shape[1]  # Number of columns in the dataframe\n",
    "discipline = euro12[['Team', 'Yellow Cards', 'Red Cards']]\n",
    "sorted_discipline = discipline.sort_values(by=['Red Cards', 'Yellow Cards'], ascending=[False, False])\n",
    "mean_yellow_cards = discipline.groupby('Team')['Yellow Cards'].mean()\n",
    "teams_more_than_six_goals = euro12[euro12['Goals'] > 6]\n",
    "teams_starting_with_G = euro12[euro12['Team'].str.startswith('G')]\n",
    "first_seven_columns = euro12.iloc[:, :7]\n",
    "all_columns_except_last_three = euro12.iloc[:, :-3]\n",
    "shooting_accuracy = euro12[euro12['Team'].isin(['England', 'Italy', 'Russia'])][['Team', 'Shooting Accuracy']]"
   ]
  },
  {
   "cell_type": "markdown",
   "id": "5dd502ca",
   "metadata": {},
   "source": [
    "**Step 5.** How many teams participated in the Euro 2012?  "
   ]
  },
  {
   "cell_type": "code",
   "execution_count": 185,
   "id": "96ee7cf9",
   "metadata": {},
   "outputs": [
    {
     "name": "stdout",
     "output_type": "stream",
     "text": [
      "Number of teams that participated in Euro 2012: 16\n"
     ]
    }
   ],
   "source": [
    "# Display the results\n",
    "print(\"Number of teams that participated in Euro 2012:\", num_participating_teams)"
   ]
  },
  {
   "cell_type": "markdown",
   "id": "8548fc3f",
   "metadata": {},
   "source": [
    "**Step 6.** What is the number of columns in the dataset?  "
   ]
  },
  {
   "cell_type": "code",
   "execution_count": 186,
   "id": "6c2d0c51",
   "metadata": {},
   "outputs": [
    {
     "name": "stdout",
     "output_type": "stream",
     "text": [
      "Number of columns in the Euro 2012 dataset: 35\n"
     ]
    }
   ],
   "source": [
    "print(\"Number of columns in the Euro 2012 dataset:\", num_data_columns)"
   ]
  },
  {
   "cell_type": "markdown",
   "id": "999433db",
   "metadata": {},
   "source": [
    "**Step 7.** View only the columns Team, Yellow Cards, and Red Cards and assign them to a dataframe called `discipline`  "
   ]
  },
  {
   "cell_type": "code",
   "execution_count": 187,
   "id": "62876688",
   "metadata": {},
   "outputs": [
    {
     "name": "stdout",
     "output_type": "stream",
     "text": [
      "\n",
      "Disciplinary actions per team:\n",
      "                   Team  Yellow Cards  Red Cards\n",
      "0               Croatia             9          0\n",
      "1        Czech Republic             7          0\n",
      "2               Denmark             4          0\n",
      "3               England             5          0\n",
      "4                France             6          0\n",
      "5               Germany             4          0\n",
      "6                Greece             9          1\n",
      "7                 Italy            16          0\n",
      "8           Netherlands             5          0\n",
      "9                Poland             7          1\n",
      "10             Portugal            12          0\n",
      "11  Republic of Ireland             6          1\n",
      "12               Russia             6          0\n",
      "13                Spain            11          0\n",
      "14               Sweden             7          0\n",
      "15              Ukraine             5          0\n"
     ]
    }
   ],
   "source": [
    "print(\"\\nDisciplinary actions per team:\")\n",
    "print(disciplinary_actions)"
   ]
  },
  {
   "cell_type": "markdown",
   "id": "41c6175c",
   "metadata": {},
   "source": [
    "**Step 8.** Sort the teams by Red Cards, then by Yellow Cards  "
   ]
  },
  {
   "cell_type": "code",
   "execution_count": 188,
   "id": "28e3cedc",
   "metadata": {},
   "outputs": [
    {
     "name": "stdout",
     "output_type": "stream",
     "text": [
      "\n",
      "Teams sorted by Red Cards and Yellow Cards:\n",
      "                   Team  Yellow Cards  Red Cards\n",
      "6                Greece             9          1\n",
      "9                Poland             7          1\n",
      "11  Republic of Ireland             6          1\n",
      "7                 Italy            16          0\n",
      "10             Portugal            12          0\n",
      "13                Spain            11          0\n",
      "0               Croatia             9          0\n",
      "1        Czech Republic             7          0\n",
      "14               Sweden             7          0\n",
      "4                France             6          0\n",
      "12               Russia             6          0\n",
      "3               England             5          0\n",
      "8           Netherlands             5          0\n",
      "15              Ukraine             5          0\n",
      "2               Denmark             4          0\n",
      "5               Germany             4          0\n"
     ]
    }
   ],
   "source": [
    "print(\"\\nTeams sorted by Red Cards and Yellow Cards:\")\n",
    "print(sorted_disciplinary_actions)"
   ]
  },
  {
   "cell_type": "markdown",
   "id": "50be9676",
   "metadata": {},
   "source": [
    "**Step 9.** Calculate the mean Yellow Cards given per Team  "
   ]
  },
  {
   "cell_type": "code",
   "execution_count": 189,
   "id": "91e696db",
   "metadata": {},
   "outputs": [
    {
     "name": "stdout",
     "output_type": "stream",
     "text": [
      "\n",
      "Mean Yellow Cards per team:\n",
      "Team\n",
      "Croatia                 9.0\n",
      "Czech Republic          7.0\n",
      "Denmark                 4.0\n",
      "England                 5.0\n",
      "France                  6.0\n",
      "Germany                 4.0\n",
      "Greece                  9.0\n",
      "Italy                  16.0\n",
      "Netherlands             5.0\n",
      "Poland                  7.0\n",
      "Portugal               12.0\n",
      "Republic of Ireland     6.0\n",
      "Russia                  6.0\n",
      "Spain                  11.0\n",
      "Sweden                  7.0\n",
      "Ukraine                 5.0\n",
      "Name: Yellow Cards, dtype: float64\n"
     ]
    }
   ],
   "source": [
    "print(\"\\nMean Yellow Cards per team:\")\n",
    "print(mean_yellow_cards_per_team)"
   ]
  },
  {
   "cell_type": "markdown",
   "id": "5a0ecfca",
   "metadata": {},
   "source": [
    "**Step 10.** Filter teams that scored more than 6 goals  "
   ]
  },
  {
   "cell_type": "code",
   "execution_count": 190,
   "id": "61c43e39",
   "metadata": {},
   "outputs": [
    {
     "name": "stdout",
     "output_type": "stream",
     "text": [
      "\n",
      "Teams that scored more than 6 goals:\n",
      "       Team  Goals  Shots on target  Shots off target Shooting Accuracy  \\\n",
      "5   Germany     10               32                32             47.8%   \n",
      "13    Spain     12               42                33             55.9%   \n",
      "\n",
      "   % Goals-to-shots  Total shots (inc. Blocked)  Hit Woodwork  Penalty goals  \\\n",
      "5             15.6%                          80             2              1   \n",
      "13            16.0%                         100             0              1   \n",
      "\n",
      "    Penalties not scored  ...  Saves made  Saves-to-shots ratio  Fouls Won  \\\n",
      "5                      0  ...          10                 62.6%         63   \n",
      "13                     0  ...          15                 93.8%        102   \n",
      "\n",
      "   Fouls Conceded  Offsides  Yellow Cards  Red Cards  Subs on  Subs off  \\\n",
      "5              49        12             4          0       15        15   \n",
      "13             83        19            11          0       17        17   \n",
      "\n",
      "    Players Used  \n",
      "5             17  \n",
      "13            18  \n",
      "\n",
      "[2 rows x 35 columns]\n"
     ]
    }
   ],
   "source": [
    "print(\"\\nTeams that scored more than 6 goals:\")\n",
    "print(teams_with_more_than_six_goals)"
   ]
  },
  {
   "cell_type": "markdown",
   "id": "221ddd1c",
   "metadata": {},
   "source": [
    "**Step 11.** Select the teams that start with the letter \"G\"  "
   ]
  },
  {
   "cell_type": "code",
   "execution_count": 191,
   "id": "c29485a7",
   "metadata": {},
   "outputs": [
    {
     "name": "stdout",
     "output_type": "stream",
     "text": [
      "\n",
      "Teams whose names start with 'G':\n",
      "      Team  Goals  Shots on target  Shots off target Shooting Accuracy  \\\n",
      "5  Germany     10               32                32             47.8%   \n",
      "6   Greece      5                8                18             30.7%   \n",
      "\n",
      "  % Goals-to-shots  Total shots (inc. Blocked)  Hit Woodwork  Penalty goals  \\\n",
      "5            15.6%                          80             2              1   \n",
      "6            19.2%                          32             1              1   \n",
      "\n",
      "   Penalties not scored  ...  Saves made  Saves-to-shots ratio  Fouls Won  \\\n",
      "5                     0  ...          10                 62.6%         63   \n",
      "6                     1  ...          13                 65.1%         67   \n",
      "\n",
      "  Fouls Conceded  Offsides  Yellow Cards  Red Cards  Subs on  Subs off  \\\n",
      "5             49        12             4          0       15        15   \n",
      "6             48        12             9          1       12        12   \n",
      "\n",
      "   Players Used  \n",
      "5            17  \n",
      "6            20  \n",
      "\n",
      "[2 rows x 35 columns]\n"
     ]
    }
   ],
   "source": [
    "print(\"\\nTeams whose names start with 'G':\")\n",
    "print(teams_starting_with_G)"
   ]
  },
  {
   "cell_type": "markdown",
   "id": "159ab043",
   "metadata": {},
   "source": [
    "**Step 12.** Select the first 7 columns  "
   ]
  },
  {
   "cell_type": "code",
   "execution_count": 192,
   "id": "077c0f30",
   "metadata": {},
   "outputs": [
    {
     "name": "stdout",
     "output_type": "stream",
     "text": [
      "\n",
      "First 7 columns of the dataset:\n",
      "                   Team  Goals  Shots on target  Shots off target  \\\n",
      "0               Croatia      4               13                12   \n",
      "1        Czech Republic      4               13                18   \n",
      "2               Denmark      4               10                10   \n",
      "3               England      5               11                18   \n",
      "4                France      3               22                24   \n",
      "5               Germany     10               32                32   \n",
      "6                Greece      5                8                18   \n",
      "7                 Italy      6               34                45   \n",
      "8           Netherlands      2               12                36   \n",
      "9                Poland      2               15                23   \n",
      "10             Portugal      6               22                42   \n",
      "11  Republic of Ireland      1                7                12   \n",
      "12               Russia      5                9                31   \n",
      "13                Spain     12               42                33   \n",
      "14               Sweden      5               17                19   \n",
      "15              Ukraine      2                7                26   \n",
      "\n",
      "   Shooting Accuracy % Goals-to-shots  Total shots (inc. Blocked)  \n",
      "0              51.9%            16.0%                          32  \n",
      "1              41.9%            12.9%                          39  \n",
      "2              50.0%            20.0%                          27  \n",
      "3              50.0%            17.2%                          40  \n",
      "4              37.9%             6.5%                          65  \n",
      "5              47.8%            15.6%                          80  \n",
      "6              30.7%            19.2%                          32  \n",
      "7              43.0%             7.5%                         110  \n",
      "8              25.0%             4.1%                          60  \n",
      "9              39.4%             5.2%                          48  \n",
      "10             34.3%             9.3%                          82  \n",
      "11             36.8%             5.2%                          28  \n",
      "12             22.5%            12.5%                          59  \n",
      "13             55.9%            16.0%                         100  \n",
      "14             47.2%            13.8%                          39  \n",
      "15             21.2%             6.0%                          38  \n"
     ]
    }
   ],
   "source": [
    "print(\"\\nFirst 7 columns of the dataset:\")\n",
    "print(first_seven_columns)"
   ]
  },
  {
   "cell_type": "markdown",
   "id": "7c5d6dd0",
   "metadata": {},
   "source": [
    "**Step 13.** Select all columns except the last 3  "
   ]
  },
  {
   "cell_type": "code",
   "execution_count": 193,
   "id": "650d6cf1",
   "metadata": {},
   "outputs": [
    {
     "name": "stdout",
     "output_type": "stream",
     "text": [
      "\n",
      "All columns except the last 3:\n",
      "                   Team  Goals  Shots on target  Shots off target  \\\n",
      "0               Croatia      4               13                12   \n",
      "1        Czech Republic      4               13                18   \n",
      "2               Denmark      4               10                10   \n",
      "3               England      5               11                18   \n",
      "4                France      3               22                24   \n",
      "5               Germany     10               32                32   \n",
      "6                Greece      5                8                18   \n",
      "7                 Italy      6               34                45   \n",
      "8           Netherlands      2               12                36   \n",
      "9                Poland      2               15                23   \n",
      "10             Portugal      6               22                42   \n",
      "11  Republic of Ireland      1                7                12   \n",
      "12               Russia      5                9                31   \n",
      "13                Spain     12               42                33   \n",
      "14               Sweden      5               17                19   \n",
      "15              Ukraine      2                7                26   \n",
      "\n",
      "   Shooting Accuracy % Goals-to-shots  Total shots (inc. Blocked)  \\\n",
      "0              51.9%            16.0%                          32   \n",
      "1              41.9%            12.9%                          39   \n",
      "2              50.0%            20.0%                          27   \n",
      "3              50.0%            17.2%                          40   \n",
      "4              37.9%             6.5%                          65   \n",
      "5              47.8%            15.6%                          80   \n",
      "6              30.7%            19.2%                          32   \n",
      "7              43.0%             7.5%                         110   \n",
      "8              25.0%             4.1%                          60   \n",
      "9              39.4%             5.2%                          48   \n",
      "10             34.3%             9.3%                          82   \n",
      "11             36.8%             5.2%                          28   \n",
      "12             22.5%            12.5%                          59   \n",
      "13             55.9%            16.0%                         100   \n",
      "14             47.2%            13.8%                          39   \n",
      "15             21.2%             6.0%                          38   \n",
      "\n",
      "    Hit Woodwork  Penalty goals  Penalties not scored  ...  Clean Sheets  \\\n",
      "0              0              0                     0  ...             0   \n",
      "1              0              0                     0  ...             1   \n",
      "2              1              0                     0  ...             1   \n",
      "3              0              0                     0  ...             2   \n",
      "4              1              0                     0  ...             1   \n",
      "5              2              1                     0  ...             1   \n",
      "6              1              1                     1  ...             1   \n",
      "7              2              0                     0  ...             2   \n",
      "8              2              0                     0  ...             0   \n",
      "9              0              0                     0  ...             0   \n",
      "10             6              0                     0  ...             2   \n",
      "11             0              0                     0  ...             0   \n",
      "12             2              0                     0  ...             0   \n",
      "13             0              1                     0  ...             5   \n",
      "14             3              0                     0  ...             1   \n",
      "15             0              0                     0  ...             0   \n",
      "\n",
      "    Blocks  Goals conceded Saves made  Saves-to-shots ratio  Fouls Won  \\\n",
      "0       10               3         13                 81.3%         41   \n",
      "1       10               6          9                 60.1%         53   \n",
      "2       10               5         10                 66.7%         25   \n",
      "3       29               3         22                 88.1%         43   \n",
      "4        7               5          6                 54.6%         36   \n",
      "5       11               6         10                 62.6%         63   \n",
      "6       23               7         13                 65.1%         67   \n",
      "7       18               7         20                 74.1%        101   \n",
      "8        9               5         12                 70.6%         35   \n",
      "9        8               3          6                 66.7%         48   \n",
      "10      11               4         10                 71.5%         73   \n",
      "11      23               9         17                 65.4%         43   \n",
      "12       8               3         10                 77.0%         34   \n",
      "13       8               1         15                 93.8%        102   \n",
      "14      12               5          8                 61.6%         35   \n",
      "15       4               4         13                 76.5%         48   \n",
      "\n",
      "    Fouls Conceded  Offsides  Yellow Cards  Red Cards  \n",
      "0               62         2             9          0  \n",
      "1               73         8             7          0  \n",
      "2               38         8             4          0  \n",
      "3               45         6             5          0  \n",
      "4               51         5             6          0  \n",
      "5               49        12             4          0  \n",
      "6               48        12             9          1  \n",
      "7               89        16            16          0  \n",
      "8               30         3             5          0  \n",
      "9               56         3             7          1  \n",
      "10              90        10            12          0  \n",
      "11              51        11             6          1  \n",
      "12              43         4             6          0  \n",
      "13              83        19            11          0  \n",
      "14              51         7             7          0  \n",
      "15              31         4             5          0  \n",
      "\n",
      "[16 rows x 32 columns]\n"
     ]
    }
   ],
   "source": [
    "print(\"\\nAll columns except the last 3:\")\n",
    "print(all_columns_except_last_three)"
   ]
  },
  {
   "cell_type": "markdown",
   "id": "f698cac6",
   "metadata": {},
   "source": [
    "**Step 14.** Present only the Shooting Accuracy from the teams England, Italy, and Russia"
   ]
  },
  {
   "cell_type": "code",
   "execution_count": 194,
   "id": "e3205649",
   "metadata": {},
   "outputs": [
    {
     "name": "stdout",
     "output_type": "stream",
     "text": [
      "\n",
      "Shooting Accuracy for selected teams (England, Italy, Russia):\n",
      "       Team Shooting Accuracy\n",
      "3   England             50.0%\n",
      "7     Italy             43.0%\n",
      "12   Russia             22.5%\n"
     ]
    }
   ],
   "source": [
    "print(\"\\nShooting Accuracy for selected teams (England, Italy, Russia):\")\n",
    "print(shooting_accuracy_selected_teams)"
   ]
  },
  {
   "cell_type": "markdown",
   "id": "974c38f3",
   "metadata": {},
   "source": [
    "## Question 3: Housing\n",
    "\n",
    "**Step 1.** Import the necessary libraries  \n",
    "**Step 2.** Create 3 different Series, each of length 100, as follows:\n",
    "  - The first series with random numbers from 1 to 4\n",
    "  - The second series with random numbers from 1 to 3\n",
    "  - The third series with random numbers from 10,000 to 30,000\n",
    "\n",
    "**Step 3.** Create a DataFrame by joining the Series by column  \n",
    "**Step 4.** Change the name of the columns to `bedrs`, `bathrs`, and `price_sqr_meter`  \n",
    "**Step 5.** Create a one-column DataFrame with the values of the 3 Series and assign it to a variable called `bigcolumn`  \n",
    "**Step 6.** Oops, it seems it is going only until index 99. Is it true?  \n",
    "**Step 7.** Reindex the DataFrame so it goes from 0 to 299\n",
    "\n"
   ]
  },
  {
   "cell_type": "code",
   "execution_count": 195,
   "id": "5a32d0ba",
   "metadata": {},
   "outputs": [],
   "source": [
    "import pandas as pd\n",
    "import numpy as np\n",
    "\n",
    "# Create Series with random numbers\n",
    "series1 = pd.Series(np.random.randint(1, 5, size=100))\n",
    "series2 = pd.Series(np.random.randint(1, 4, size=100))\n",
    "series3 = pd.Series(np.random.randint(10000, 30001, size=100))\n",
    "# Create a DataFrame by joining the Series\n",
    "housing_df = pd.concat([series1, series2, series3], axis=1)\n",
    "bigcolumn = pd.concat([series1, series2, series3], axis=0)\n",
    "bigcolumn = bigcolumn.reset_index(drop=True)\n",
    "# Check if bigcolumn goes until index 99\n",
    "goes_until_99 = bigcolumn.index.max() == 99\n",
    "housing_df = housing_df.reindex(range(300))\n",
    "\n"
   ]
  },
  {
   "cell_type": "markdown",
   "id": "3817e728",
   "metadata": {},
   "source": [
    "**Step 2.** Create 3 different Series, each of length 100, as follows:\n",
    "  - The first series with random numbers from 1 to 4"
   ]
  },
  {
   "cell_type": "code",
   "execution_count": 196,
   "id": "77e82a6d",
   "metadata": {},
   "outputs": [
    {
     "name": "stdout",
     "output_type": "stream",
     "text": [
      "Random Numbers Series 1:\n",
      "0     4\n",
      "1     1\n",
      "2     2\n",
      "3     2\n",
      "4     2\n",
      "     ..\n",
      "95    1\n",
      "96    2\n",
      "97    1\n",
      "98    4\n",
      "99    4\n",
      "Length: 100, dtype: int32\n"
     ]
    }
   ],
   "source": [
    "print(\"Random Numbers Series 1:\")\n",
    "print(random_numbers_series1)"
   ]
  },
  {
   "cell_type": "markdown",
   "id": "e3f5c851",
   "metadata": {},
   "source": [
    "  - The second series with random numbers from 1 to 3"
   ]
  },
  {
   "cell_type": "code",
   "execution_count": 197,
   "id": "57d49dbf",
   "metadata": {},
   "outputs": [
    {
     "name": "stdout",
     "output_type": "stream",
     "text": [
      "\n",
      "Random Numbers Series 2:\n",
      "0     3\n",
      "1     3\n",
      "2     1\n",
      "3     3\n",
      "4     2\n",
      "     ..\n",
      "95    2\n",
      "96    3\n",
      "97    2\n",
      "98    2\n",
      "99    2\n",
      "Length: 100, dtype: int32\n"
     ]
    }
   ],
   "source": [
    "print(\"\\nRandom Numbers Series 2:\")\n",
    "print(random_numbers_series2)"
   ]
  },
  {
   "cell_type": "markdown",
   "id": "a1adc6c4",
   "metadata": {},
   "source": [
    " - The third series with random numbers from 10,000 to 30,000"
   ]
  },
  {
   "cell_type": "code",
   "execution_count": 198,
   "id": "b41d85e8",
   "metadata": {},
   "outputs": [
    {
     "name": "stdout",
     "output_type": "stream",
     "text": [
      "\n",
      "Random Numbers Series 3:\n",
      "0     19590\n",
      "1     27042\n",
      "2     23736\n",
      "3     17192\n",
      "4     13760\n",
      "      ...  \n",
      "95    29659\n",
      "96    27949\n",
      "97    14687\n",
      "98    18228\n",
      "99    21028\n",
      "Length: 100, dtype: int32\n"
     ]
    }
   ],
   "source": [
    "print(\"\\nRandom Numbers Series 3:\")\n",
    "print(random_numbers_series3)"
   ]
  },
  {
   "cell_type": "markdown",
   "id": "941153d3",
   "metadata": {},
   "source": [
    "**Step 3.** Create a DataFrame by joining the Series by column\n",
    "\n",
    "**Step 4.** Change the name of the columns to `bedrs`, `bathrs`, and `price_sqr_meter`  "
   ]
  },
  {
   "cell_type": "code",
   "execution_count": 199,
   "id": "025426ed",
   "metadata": {},
   "outputs": [
    {
     "name": "stdout",
     "output_type": "stream",
     "text": [
      "Housing DataFrame:\n",
      "    bedrs  bathrs  price_sqr_meter\n",
      "0       4       3            19590\n",
      "1       1       3            27042\n",
      "2       2       1            23736\n",
      "3       2       3            17192\n",
      "4       2       2            13760\n",
      "..    ...     ...              ...\n",
      "95      1       2            29659\n",
      "96      2       3            27949\n",
      "97      1       2            14687\n",
      "98      4       2            18228\n",
      "99      4       2            21028\n",
      "\n",
      "[100 rows x 3 columns]\n"
     ]
    }
   ],
   "source": [
    "print(\"Housing DataFrame:\")\n",
    "print(housing_data_frame)"
   ]
  },
  {
   "cell_type": "markdown",
   "id": "4bff7227",
   "metadata": {},
   "source": [
    "**Step 5.** Create a one-column DataFrame with the values of the 3 Series and assign it to a variable called `bigcolumn`  \n"
   ]
  },
  {
   "cell_type": "code",
   "execution_count": 200,
   "id": "1c027eec",
   "metadata": {},
   "outputs": [
    {
     "name": "stdout",
     "output_type": "stream",
     "text": [
      "\n",
      "Big Column DataFrame:\n",
      "0          4\n",
      "1          1\n",
      "2          2\n",
      "3          2\n",
      "4          2\n",
      "       ...  \n",
      "295    29659\n",
      "296    27949\n",
      "297    14687\n",
      "298    18228\n",
      "299    21028\n",
      "Length: 300, dtype: int32\n"
     ]
    }
   ],
   "source": [
    "print(\"\\nBig Column DataFrame:\")\n",
    "print(big_column_data_frame)"
   ]
  },
  {
   "cell_type": "markdown",
   "id": "f4fea54b",
   "metadata": {},
   "source": [
    "**Step 6.** Oops, it seems it is going only until index 99. Is it true?  \n"
   ]
  },
  {
   "cell_type": "code",
   "execution_count": 201,
   "id": "ef38047f",
   "metadata": {},
   "outputs": [
    {
     "name": "stdout",
     "output_type": "stream",
     "text": [
      "\n",
      "Does the Big Column go until index 99? False\n"
     ]
    }
   ],
   "source": [
    "print(\"\\nDoes the Big Column go until index 99?\", does_go_until_99)"
   ]
  },
  {
   "cell_type": "markdown",
   "id": "f7335945",
   "metadata": {},
   "source": [
    "**Step 7.** Reindex the DataFrame so it goes from 0 to 299"
   ]
  },
  {
   "cell_type": "code",
   "execution_count": 202,
   "id": "14ccf2e4",
   "metadata": {
    "scrolled": true
   },
   "outputs": [
    {
     "name": "stdout",
     "output_type": "stream",
     "text": [
      "\n",
      "Reindexed Housing DataFrame with 300 rows:\n",
      "     bedrs  bathrs  price_sqr_meter\n",
      "0      4.0     3.0          19590.0\n",
      "1      1.0     3.0          27042.0\n",
      "2      2.0     1.0          23736.0\n",
      "3      2.0     3.0          17192.0\n",
      "4      2.0     2.0          13760.0\n",
      "..     ...     ...              ...\n",
      "295    NaN     NaN              NaN\n",
      "296    NaN     NaN              NaN\n",
      "297    NaN     NaN              NaN\n",
      "298    NaN     NaN              NaN\n",
      "299    NaN     NaN              NaN\n",
      "\n",
      "[300 rows x 3 columns]\n"
     ]
    }
   ],
   "source": [
    "print(\"\\nReindexed Housing DataFrame with 300 rows:\")\n",
    "print(reindexed_housing_data_frame)"
   ]
  },
  {
   "cell_type": "markdown",
   "id": "2a02195a",
   "metadata": {},
   "source": [
    "## Question 4: Wind Statistics\n",
    "\n",
    "**Step 1.** Import the necessary libraries  \n",
    "**Step 2.** Import the dataset from the attached file `wind.txt`  \n",
    "**Step 3.** Assign it to a variable called `data` and replace the first 3 columns by a proper datetime index  \n",
    "**Step 4.** Year 2061? Do we really have data from this year? Create a function to fix it and apply it  \n",
    "**Step 5.** Set the right dates as the index. Pay attention to the data type, it should be `datetime64[ns]`  \n",
    "**Step 6.** Compute how many values are missing for each location over the entire record. They should be ignored in all calculations below.  \n",
    "**Step 7.** Compute how many non-missing values there are in total.  \n",
    "**Step 8.** Calculate the mean windspeeds of the windspeeds over all the locations and all the times. A single number for the entire dataset.  \n",
    "**Step 9.** Create a DataFrame called `loc_stats` and calculate the min, max, and mean windspeeds and standard deviations of the windspeeds at each location over all the days. A different set of numbers for each location.  \n",
    "**Step 10.** Create a DataFrame called `day_stats` and calculate the min, max, and mean windspeed and standard deviations of the windspeeds across all the locations at each day. A different set of numbers for each day.  \n",
    "**Step 11.** Find the average windspeed in January for each location. Treat January 1961 and January 1962 both as January.  \n",
    "**Step 12.** Downsample the record to a yearly frequency for each location.  \n",
    "**Step 13.** Downsample the record to a monthly frequency for each location.  \n",
    "**Step 14.** Downsample the record to a weekly frequency for each location.  \n",
    "**Step 15.** Calculate the min, max, and mean windspeeds and standard deviations of the windspeeds across all locations for each week (assume that the first week starts on January 2, 1961) for the first 52 weeks.\n"
   ]
  },
  {
   "cell_type": "code",
   "execution_count": 203,
   "id": "a07e7254",
   "metadata": {},
   "outputs": [
    {
     "name": "stdout",
     "output_type": "stream",
     "text": [
      "Number of missing values for each location:\n",
      " RPT    6\n",
      "VAL    3\n",
      "ROS    2\n",
      "KIL    5\n",
      "SHA    2\n",
      "BIR    0\n",
      "DUB    3\n",
      "CLA    2\n",
      "MUL    3\n",
      "CLO    1\n",
      "BEL    0\n",
      "MAL    4\n",
      "dtype: int64\n",
      "\n",
      "Total count of non-missing values: 78857\n",
      "\n",
      "Mean windspeed over all locations and times: 10.227982360836938\n",
      "\n",
      "Location statistics:\n",
      "       min    max       mean       std\n",
      "RPT  0.67  35.80  12.362987  5.618413\n",
      "VAL  0.21  33.37  10.644314  5.267356\n",
      "ROS  1.50  33.84  11.660526  5.008450\n",
      "KIL  0.00  28.46   6.306468  3.605811\n",
      "SHA  0.13  37.54  10.455834  4.936125\n",
      "BIR  0.00  26.16   7.092254  3.968683\n",
      "DUB  0.00  30.37   9.797343  4.977555\n",
      "CLA  0.00  31.08   8.495053  4.499449\n",
      "MUL  0.00  25.88   8.493590  4.166872\n",
      "CLO  0.04  28.21   8.707332  4.503954\n",
      "BEL  0.13  42.38  13.121007  5.835037\n",
      "MAL  0.67  42.54  15.599079  6.699794\n",
      "\n",
      "Day statistics:\n",
      "              min    max       mean       std\n",
      "Yr_Mo_Dy                                    \n",
      "1961-01-01  9.29  18.50  13.018182  2.808875\n",
      "1961-01-02  6.50  17.54  11.336364  3.188994\n",
      "1961-01-03  6.17  18.50  11.641818  3.681912\n",
      "1961-01-04  1.79  11.75   6.619167  3.198126\n",
      "1961-01-05  6.17  13.33  10.630000  2.445356\n",
      "...          ...    ...        ...       ...\n",
      "1978-12-27  8.08  40.08  16.708333  7.868076\n",
      "1978-12-28  5.00  41.46  15.150000  9.687857\n",
      "1978-12-29  8.71  29.58  14.890000  5.756836\n",
      "1978-12-30  9.13  28.79  15.367500  5.540437\n",
      "1978-12-31  9.59  27.29  15.402500  5.702483\n",
      "\n",
      "[6574 rows x 4 columns]\n",
      "\n",
      "Average windspeed in January for each location:\n",
      " RPT    14.847325\n",
      "VAL    12.914560\n",
      "ROS    13.299624\n",
      "KIL     7.199498\n",
      "SHA    11.667734\n",
      "BIR     8.054839\n",
      "DUB    11.819355\n",
      "CLA     9.512047\n",
      "MUL     9.543208\n",
      "CLO    10.053566\n",
      "BEL    14.550520\n",
      "MAL    18.028763\n",
      "dtype: float64\n",
      "\n",
      "Yearly downsampled data:\n",
      "                   RPT        VAL        ROS       KIL        SHA       BIR  \\\n",
      "Date                                                                         \n",
      "1961-12-31  12.299583  10.351796  11.362369  6.958227  10.881763  7.729726   \n",
      "1962-12-31  12.246923  10.110438  11.732712  6.960440  10.657918  7.393068   \n",
      "1963-12-31  12.813452  10.836986  12.541151  7.330055  11.724110  8.434712   \n",
      "1964-12-31  12.363661  10.920164  12.104372  6.787787  11.454481  7.570874   \n",
      "1965-12-31  12.451370  11.075534  11.848767  6.858466  11.024795  7.478110   \n",
      "1966-12-31  13.461973  11.557205  12.020630  7.345726  11.805041  7.793671   \n",
      "1967-12-31  12.737151  10.990986  11.739397  7.143425  11.630740  7.368164   \n",
      "1968-12-31  11.835628  10.468197  11.409754  6.477678  10.760765  6.067322   \n",
      "1969-12-31  11.166356   9.723699  10.902000  5.767973   9.873918  6.189973   \n",
      "1970-12-31  12.600329  10.726932  11.730247  6.217178  10.567370  7.609452   \n",
      "1971-12-31  11.273123   9.095178  11.088329  5.241507   9.440329  6.097151   \n",
      "1972-12-31  12.463962  10.561311  12.058333  5.929699   9.430410  6.358825   \n",
      "1973-12-31  11.828466  10.680493  10.680493  5.547863   9.640877  6.548740   \n",
      "1974-12-31  13.643096  11.811781  12.336356  6.427041  11.110986  6.809781   \n",
      "1975-12-31  12.008575  10.293836  11.564712  5.269096   9.190082  5.668521   \n",
      "1976-12-31  11.737842  10.203115  10.761230  5.109426   8.846339  6.311038   \n",
      "1977-12-31  13.099616  11.144493  12.627836  6.073945  10.003836  8.586438   \n",
      "1978-12-31  12.504356  11.044274  11.380000  6.082356  10.167233  7.650658   \n",
      "\n",
      "                  DUB        CLA       MUL        CLO        BEL        MAL  \n",
      "Date                                                                         \n",
      "1961-12-31   9.733923   8.858788  8.647652   9.835577  13.502795  13.680773  \n",
      "1962-12-31  11.020712   8.793753  8.316822   9.676247  12.930685  14.323956  \n",
      "1963-12-31  11.075699  10.336548  8.903589  10.224438  13.638877  14.999014  \n",
      "1964-12-31  10.259153   9.467350  7.789016  10.207951  13.740546  14.910301  \n",
      "1965-12-31  10.618712   8.879918  7.907425   9.918082  12.964247  15.591644  \n",
      "1966-12-31  10.579808   8.835096  8.514438   9.768959  14.265836  16.307260  \n",
      "1967-12-31  10.652027   9.325616  8.645014   9.547425  14.774548  17.135945  \n",
      "1968-12-31   8.859180   8.255519  7.224945   7.832978  12.808634  15.017486  \n",
      "1969-12-31   8.564493   7.711397  7.924521   7.754384  12.621233  15.762904  \n",
      "1970-12-31   9.609890   8.334630  9.297616   8.289808  13.183644  16.456027  \n",
      "1971-12-31   8.385890   6.757315  7.915370   7.229753  12.208932  15.025233  \n",
      "1972-12-31   9.704508   7.680792  8.357295   7.515273  12.727377  15.028716  \n",
      "1973-12-31   8.482110   7.614274  8.245534   7.812411  12.169699  15.441096  \n",
      "1974-12-31  10.084603   9.896986  9.331753   8.736356  13.252959  16.947671  \n",
      "1975-12-31   8.562603   7.843836  8.797945   7.382822  12.631671  15.307863  \n",
      "1976-12-31   9.149126   7.146202  8.883716   7.883087  12.332377  15.471448  \n",
      "1977-12-31  11.523205   8.378384  9.098192   8.821616  13.459068  16.590849  \n",
      "1978-12-31   9.489342   8.800466  9.089753   8.301699  12.967397  16.771370  \n",
      "\n",
      "Monthly downsampled data:\n",
      "                   RPT        VAL        ROS       KIL        SHA        BIR  \\\n",
      "Date                                                                          \n",
      "1961-01-31  14.841333  11.988333  13.431613  7.736774  11.072759   8.588065   \n",
      "1961-02-28  16.269286  14.975357  14.441481  9.230741  13.852143  10.937500   \n",
      "1961-03-31  10.890000  11.296452  10.752903  7.284000  10.509355   8.866774   \n",
      "1961-04-30  10.722667   9.427667   9.998000  5.830667   8.435000   6.495000   \n",
      "1961-05-31   9.860968   8.850000  10.818065  5.905333   9.490323   6.574839   \n",
      "...               ...        ...        ...       ...        ...        ...   \n",
      "1978-08-31   9.645161   8.259355   9.032258  4.502903   7.368065   5.935161   \n",
      "1978-09-30  10.913667  10.895000  10.635000  5.725000  10.372000   9.278333   \n",
      "1978-10-31   9.897742   8.670968   9.295806  4.721290   8.525161   6.774194   \n",
      "1978-11-30  16.151667  14.802667  13.508000  7.317333  11.475000   8.743000   \n",
      "1978-12-31  16.175484  13.748065  15.635161  7.094839  11.398710   9.241613   \n",
      "\n",
      "                  DUB        CLA        MUL        CLO        BEL        MAL  \n",
      "Date                                                                          \n",
      "1961-01-31  11.184839   9.245333   9.085806  10.107419  13.880968  14.703226  \n",
      "1961-02-28  11.890714  11.846071  11.821429  12.714286  18.583214  15.411786  \n",
      "1961-03-31   9.644194   9.829677  10.294138  11.251935  16.410968  15.720000  \n",
      "1961-04-30   6.925333   7.094667   7.342333   7.237000  11.147333  10.278333  \n",
      "1961-05-31   7.604000   8.177097   8.039355   8.499355  11.900323  12.011613  \n",
      "...               ...        ...        ...        ...        ...        ...  \n",
      "1978-08-31   5.650323   5.417742   7.241290   5.536774  10.466774  12.054194  \n",
      "1978-09-30  10.790333   9.583000  10.069333   8.939000  15.680333  19.391333  \n",
      "1978-10-31   8.115484   7.337742   8.297742   8.243871  13.776774  17.150000  \n",
      "1978-11-30  11.492333   9.657333  10.701333  10.676000  17.404667  20.723000  \n",
      "1978-12-31  12.077419  10.194839  10.616774  11.028710  13.859677  21.371613  \n",
      "\n",
      "[216 rows x 12 columns]\n",
      "\n",
      "Weekly downsampled data:\n",
      "                   RPT        VAL        ROS        KIL        SHA        BIR  \\\n",
      "Date                                                                           \n",
      "1961-01-01  15.040000  14.960000  13.170000   9.290000        NaN   9.870000   \n",
      "1961-01-08  13.541429  11.486667  10.487143   6.417143   9.474286   6.435714   \n",
      "1961-01-15  12.468571   8.967143  11.958571   4.630000   7.351429   5.072857   \n",
      "1961-01-22  13.204286   9.862857  12.982857   6.328571   8.966667   7.417143   \n",
      "1961-01-29  19.880000  16.141429  18.225714  12.720000  17.432857  14.828571   \n",
      "...               ...        ...        ...        ...        ...        ...   \n",
      "1978-12-03  14.934286  11.232857  13.941429   5.565714  10.215714   8.618571   \n",
      "1978-12-10  20.740000  19.190000  17.034286   9.777143  15.287143  12.774286   \n",
      "1978-12-17  16.758571  14.692857  14.987143   6.917143  11.397143   7.272857   \n",
      "1978-12-24  11.155714   8.008571  13.172857   4.004286   7.825714   6.290000   \n",
      "1978-12-31  14.951429  11.801429  16.035714   6.507143   9.660000   8.620000   \n",
      "\n",
      "                  DUB        CLA        MUL        CLO        BEL        MAL  \n",
      "Date                                                                          \n",
      "1961-01-01  13.670000  10.250000  10.830000  12.580000  18.500000  15.040000  \n",
      "1961-01-08  11.061429   6.616667   8.434286   8.497143  12.481429  13.238571  \n",
      "1961-01-15   7.535714   6.820000   5.712857   7.571429  11.125714  11.024286  \n",
      "1961-01-22   9.257143   7.875714   7.145714   8.124286   9.821429  11.434286  \n",
      "1961-01-29  15.528571  15.160000  14.480000  15.640000  20.930000  22.530000  \n",
      "...               ...        ...        ...        ...        ...        ...  \n",
      "1978-12-03   9.642857   7.685714   9.011429   9.547143  11.835714  18.728571  \n",
      "1978-12-10  14.437143  12.488571  13.870000  14.082857  18.517143  23.061429  \n",
      "1978-12-17  10.208571   7.967143   9.168571   8.565714  11.102857  15.562857  \n",
      "1978-12-24   7.798571   8.667143   7.151429   8.072857  11.845714  18.977143  \n",
      "1978-12-31  13.708571  10.477143  10.868571  11.471429  12.947143  26.844286  \n",
      "\n",
      "[940 rows x 12 columns]\n",
      "\n",
      "Weekly statistics for the first 52 weeks:\n",
      "             RPT        VAL        ROS        KIL        SHA        BIR  \\\n",
      "min    4.202857   4.255714   6.738571   3.300000   6.112857   2.715714   \n",
      "max   19.880000  16.417143  18.225714  12.720000  17.432857  14.828571   \n",
      "mean  12.289130  10.332060  11.347326   6.946740  10.876502   7.723846   \n",
      "std    3.402637   2.831028   2.847221   2.067368   2.677186   2.431632   \n",
      "\n",
      "            DUB        CLA        MUL        CLO        BEL        MAL  \n",
      "min    3.964286   4.257143   4.501429   6.031429   5.875714   5.737143  \n",
      "max   15.565714  15.160000  14.480000  16.461429  21.832857  23.641429  \n",
      "mean   9.730810   8.843375   8.653617   9.820893  13.489066  13.681625  \n",
      "std    2.812689   2.456673   2.409221   2.585514   3.615946   3.580699  \n"
     ]
    }
   ],
   "source": [
    "import pandas as pd\n",
    "\n",
    "data = pd.read_csv('wind.txt', delim_whitespace=True, parse_dates=[[0, 1, 2]])# Step 2: Import the dataset\n",
    "\n",
    "def fix_year(year):# Step 4: Fix year 2061\n",
    "    if year > 2000:\n",
    "        return year - 100\n",
    "    else:\n",
    "        return year\n",
    "\n",
    "data['Yr_Mo_Dy'] = data['Yr_Mo_Dy'].apply(lambda x: pd.Timestamp(year=fix_year(x.year), month=x.month, day=x.day))\n",
    "data.set_index('Yr_Mo_Dy', inplace=True)# Step 5: Set the right dates as the index\n",
    "missing_values_per_location = data.isnull().sum()# Step 6: Count missing values for each location\n",
    "total_non_missing_values = data.count().sum()# Step 7: Count non-missing values\n",
    "mean_windspeed = data.mean().mean()# Step 8: Calculate mean windspeeds\n",
    "loc_stats = pd.DataFrame({# Step 9: Calculate location statistics\n",
    "    'min': data.min(),\n",
    "    'max': data.max(),\n",
    "    'mean': data.mean(),\n",
    "    'std': data.std()\n",
    "})\n",
    "day_stats = pd.DataFrame({# Step 10: Calculate day statistics\n",
    "    'min': data.min(axis=1),\n",
    "    'max': data.max(axis=1),\n",
    "    'mean': data.mean(axis=1),\n",
    "    'std': data.std(axis=1)\n",
    "})\n",
    "january_avg = data[data.index.month == 1].mean()# Step 11: Calculate average windspeed in January for each location\n",
    "data_yearly = data.resample('Y').mean()# Step 12: Downsample to yearly frequency\n",
    "data_monthly = data.resample('M').mean()# Step 13: Downsample to monthly frequency\n",
    "data_weekly = data.resample('W').mean()# Step 14: Downsample to weekly frequency\n",
    "weekly_stats = data_weekly.loc['1961-01-02':'1961-01-01'].head(52).agg(['min', 'max', 'mean', 'std'])# Step 15: Calculate weekly statistics for the first 52 weeks\n",
    "\n",
    "print(\"Number of missing values for each location:\\n\", missing_values_per_location)\n",
    "print(\"\\nTotal count of non-missing values:\", total_non_missing_values)\n",
    "print(\"\\nMean windspeed over all locations and times:\", mean_windspeed)\n",
    "print(\"\\nLocation statistics:\\n\", loc_stats)\n",
    "print(\"\\nDay statistics:\\n\", day_stats)\n",
    "print(\"\\nAverage windspeed in January for each location:\\n\", january_avg_windspeed)\n",
    "print(\"\\nYearly downsampled data:\\n\", yearly_data)\n",
    "print(\"\\nMonthly downsampled data:\\n\", monthly_data)\n",
    "print(\"\\nWeekly downsampled data:\\n\", weekly_data)\n",
    "print(\"\\nWeekly statistics for the first 52 weeks:\\n\", weekly_statistics_first_52)\n"
   ]
  },
  {
   "cell_type": "markdown",
   "id": "27d4ccc8",
   "metadata": {},
   "source": [
    "## Question 5: Chipotle Dataset Analysis\n",
    "\n",
    "**Step 1.** Import the necessary libraries  \n",
    "**Step 2.** Import the dataset from this address  \n",
    "**Step 3.** Assign it to a variable called `chipo`  \n",
    "**Step 4.** See the first 10 entries  \n",
    "**Step 5.** What is the number of observations in the dataset?  \n",
    "**Step 6.** What is the number of columns in the dataset?  \n",
    "**Step 7.** Print the name of all the columns  \n",
    "**Step 8.** How is the dataset indexed?  \n",
    "**Step 9.** Which was the most-ordered item?  \n",
    "**Step 10.** For the most-ordered item, how many items were ordered?  \n",
    "**Step 11.** What was the most ordered item in the choice_description column?  \n",
    "**Step 12.** How many items were ordered in total?  \n",
    "**Step 13.**\n",
    "- Turn the item price into a float\n",
    "- Check the item price type\n",
    "- Create a lambda function and change the type of the item price\n",
    "- Check the item price type  \n",
    "\n",
    "**Step 14.** How much was the revenue for the period in the dataset?  \n",
    "**Step 15.** How many orders were made in the period?  \n",
    "**Step 16.** What is the average revenue amount per order?  \n",
    "**Step 17.** How many different items are sold?\n"
   ]
  },
  {
   "cell_type": "code",
   "execution_count": 204,
   "id": "6d48e94e",
   "metadata": {},
   "outputs": [],
   "source": [
    "import pandas as pd\n",
    "\n",
    "# Step 2: Import the dataset\n",
    "# Step 3: Assign it to variable chipo, Chipo 1 is also created so we can compare the datatype at step 13\n",
    "url = \"https://raw.githubusercontent.com/justmarkham/DAT8/master/data/chipotle.tsv\"\n",
    "chipo = pd.read_csv(url, sep='\\t')\n",
    "chipo_original = pd.read_csv(url, sep='\\t')\n",
    "num_observations = len(chipo)# Step 5: Number of observations\n",
    "num_columns = len(chipo.columns)# Step 6: Number of columns\n",
    "column_names = chipo.columns# Step 7: Print column names\n",
    "index_type = chipo.index# Step 8: Index type\n",
    "most_ordered_item = chipo['item_name'].value_counts().idxmax()# Step 9: Most-ordered item\n",
    "most_ordered_item_count = chipo['item_name'].value_counts().max()# Step 10: Number of most-ordered item\n",
    "most_ordered_choice = chipo['choice_description'].value_counts().idxmax()# Step 11: Most ordered item in choice_description column\n",
    "total_items_ordered = chipo['quantity'].sum()# Step 12: Total items ordered\n",
    "chipo['item_price'] = chipo['item_price'].apply(lambda x: float(x[1:]))# Step 13: Convert item price to float\n",
    "revenue = chipo['item_price'].sum()# Step 14: Revenue for the period\n",
    "num_orders = chipo['order_id'].nunique()# Step 15: Number of orders\n",
    "avg_revenue_per_order = revenue / num_orders# Step 16: Average revenue per order\n",
    "num_different_items = chipo['item_name'].nunique()# Step 17: Number of different items sold"
   ]
  },
  {
   "cell_type": "markdown",
   "id": "1ed4483c",
   "metadata": {},
   "source": [
    "**Step 4.** See the first 10 entries  "
   ]
  },
  {
   "cell_type": "code",
   "execution_count": 205,
   "id": "1ad1d088",
   "metadata": {},
   "outputs": [
    {
     "name": "stdout",
     "output_type": "stream",
     "text": [
      "First 10 entries of the Chipotle dataset:\n",
      "    order_id  quantity                              item_name  \\\n",
      "0         1         1           Chips and Fresh Tomato Salsa   \n",
      "1         1         1                                   Izze   \n",
      "2         1         1                       Nantucket Nectar   \n",
      "3         1         1  Chips and Tomatillo-Green Chili Salsa   \n",
      "4         2         2                           Chicken Bowl   \n",
      "5         3         1                           Chicken Bowl   \n",
      "6         3         1                          Side of Chips   \n",
      "7         4         1                          Steak Burrito   \n",
      "8         4         1                       Steak Soft Tacos   \n",
      "9         5         1                          Steak Burrito   \n",
      "\n",
      "                                  choice_description  item_price  \n",
      "0                                                NaN        2.39  \n",
      "1                                       [Clementine]        3.39  \n",
      "2                                            [Apple]        3.39  \n",
      "3                                                NaN        2.39  \n",
      "4  [Tomatillo-Red Chili Salsa (Hot), [Black Beans...       16.98  \n",
      "5  [Fresh Tomato Salsa (Mild), [Rice, Cheese, Sou...       10.98  \n",
      "6                                                NaN        1.69  \n",
      "7  [Tomatillo Red Chili Salsa, [Fajita Vegetables...       11.75  \n",
      "8  [Tomatillo Green Chili Salsa, [Pinto Beans, Ch...        9.25  \n",
      "9  [Fresh Tomato Salsa, [Rice, Black Beans, Pinto...        9.25  \n"
     ]
    }
   ],
   "source": [
    "# Step 4: Display the first 10 entries\n",
    "print(\"First 10 entries of the Chipotle dataset:\\n\", chipo.head(10))"
   ]
  },
  {
   "cell_type": "markdown",
   "id": "e54ab670",
   "metadata": {},
   "source": [
    "**Step 5.** What is the number of observations in the dataset?  "
   ]
  },
  {
   "cell_type": "code",
   "execution_count": 206,
   "id": "e4e3d774",
   "metadata": {},
   "outputs": [
    {
     "name": "stdout",
     "output_type": "stream",
     "text": [
      "\n",
      "Number of observations in the dataset: 4622\n"
     ]
    }
   ],
   "source": [
    "# Print the formatted results\n",
    "print(\"\\nNumber of observations in the dataset:\", num_observations)"
   ]
  },
  {
   "cell_type": "markdown",
   "id": "b85e87d7",
   "metadata": {},
   "source": [
    "**Step 6.** What is the number of columns in the dataset?  "
   ]
  },
  {
   "cell_type": "code",
   "execution_count": 207,
   "id": "fe95a702",
   "metadata": {},
   "outputs": [
    {
     "name": "stdout",
     "output_type": "stream",
     "text": [
      "Number of columns in the dataset: 5\n"
     ]
    }
   ],
   "source": [
    "print(\"Number of columns in the dataset:\", num_columns)"
   ]
  },
  {
   "cell_type": "markdown",
   "id": "0aa011e5",
   "metadata": {},
   "source": [
    "**Step 7.** Print the name of all the columns  "
   ]
  },
  {
   "cell_type": "code",
   "execution_count": 208,
   "id": "80182810",
   "metadata": {},
   "outputs": [
    {
     "name": "stdout",
     "output_type": "stream",
     "text": [
      "Column names in the dataset: Index(['order_id', 'quantity', 'item_name', 'choice_description',\n",
      "       'item_price'],\n",
      "      dtype='object')\n"
     ]
    }
   ],
   "source": [
    "print(\"Column names in the dataset:\", column_names)"
   ]
  },
  {
   "cell_type": "markdown",
   "id": "18f5b660",
   "metadata": {},
   "source": [
    "**Step 8.** How is the dataset indexed?  "
   ]
  },
  {
   "cell_type": "code",
   "execution_count": 209,
   "id": "8c56f63c",
   "metadata": {},
   "outputs": [
    {
     "name": "stdout",
     "output_type": "stream",
     "text": [
      "Type of index: RangeIndex(start=0, stop=4622, step=1)\n"
     ]
    }
   ],
   "source": [
    "print(\"Type of index:\", index_type)"
   ]
  },
  {
   "cell_type": "markdown",
   "id": "a0dc7b8b",
   "metadata": {},
   "source": [
    "**Step 9.** Which was the most-ordered item?  "
   ]
  },
  {
   "cell_type": "code",
   "execution_count": 210,
   "id": "8627970b",
   "metadata": {},
   "outputs": [
    {
     "name": "stdout",
     "output_type": "stream",
     "text": [
      "Most-ordered item: Chicken Bowl\n"
     ]
    }
   ],
   "source": [
    "print(\"Most-ordered item:\", most_ordered_item)"
   ]
  },
  {
   "cell_type": "markdown",
   "id": "28722025",
   "metadata": {},
   "source": [
    "**Step 10.** For the most-ordered item, how many items were ordered?  "
   ]
  },
  {
   "cell_type": "code",
   "execution_count": 211,
   "id": "93dac312",
   "metadata": {},
   "outputs": [
    {
     "name": "stdout",
     "output_type": "stream",
     "text": [
      "Number of times the most-ordered item was ordered: 726\n"
     ]
    }
   ],
   "source": [
    "print(\"Number of times the most-ordered item was ordered:\", most_ordered_item_count)"
   ]
  },
  {
   "cell_type": "markdown",
   "id": "eccf9ca4",
   "metadata": {},
   "source": [
    "**Step 11.** What was the most ordered item in the choice_description column?  "
   ]
  },
  {
   "cell_type": "code",
   "execution_count": 212,
   "id": "2681304a",
   "metadata": {},
   "outputs": [
    {
     "name": "stdout",
     "output_type": "stream",
     "text": [
      "Most ordered choice description: [Diet Coke]\n"
     ]
    }
   ],
   "source": [
    "print(\"Most ordered choice description:\", most_ordered_choice)"
   ]
  },
  {
   "cell_type": "markdown",
   "id": "35c365f0",
   "metadata": {},
   "source": [
    "**Step 12.** How many items were ordered in total?  "
   ]
  },
  {
   "cell_type": "code",
   "execution_count": 213,
   "id": "d283cd9f",
   "metadata": {},
   "outputs": [
    {
     "name": "stdout",
     "output_type": "stream",
     "text": [
      "Total quantity of items ordered: 4972\n"
     ]
    }
   ],
   "source": [
    "print(\"Total quantity of items ordered:\", total_items_ordered)"
   ]
  },
  {
   "cell_type": "markdown",
   "id": "0a2c118d",
   "metadata": {},
   "source": [
    "**Step 13.**\n",
    "- Turn the item price into a float\n",
    "- Check the item price type\n",
    "- Create a lambda function and change the type of the item price\n",
    "- Check the item price type  \n"
   ]
  },
  {
   "cell_type": "code",
   "execution_count": 214,
   "id": "2d3d1bad",
   "metadata": {},
   "outputs": [
    {
     "name": "stdout",
     "output_type": "stream",
     "text": [
      "Initial data type of item_price: <class 'str'>\n"
     ]
    }
   ],
   "source": [
    "print(\"Initial data type of item_price:\", type(chipo_original['item_price'][0]))"
   ]
  },
  {
   "cell_type": "code",
   "execution_count": 215,
   "id": "6b58072d",
   "metadata": {},
   "outputs": [
    {
     "name": "stdout",
     "output_type": "stream",
     "text": [
      "Data type of item_price after conversion: <class 'numpy.float64'>\n"
     ]
    }
   ],
   "source": [
    "print(\"Data type of item_price after conversion:\", type(chipo['item_price'][0]))"
   ]
  },
  {
   "cell_type": "markdown",
   "id": "9bf0d95c",
   "metadata": {},
   "source": [
    "**Step 14.** How much was the revenue for the period in the dataset?  "
   ]
  },
  {
   "cell_type": "code",
   "execution_count": 216,
   "id": "5f83e120",
   "metadata": {},
   "outputs": [
    {
     "name": "stdout",
     "output_type": "stream",
     "text": [
      "Total revenue for the period: $34500.16\n"
     ]
    }
   ],
   "source": [
    "print(\"Total revenue for the period: ${:.2f}\".format(revenue))"
   ]
  },
  {
   "cell_type": "markdown",
   "id": "c38f6861",
   "metadata": {},
   "source": [
    "**Step 15.** How many orders were made in the period?  "
   ]
  },
  {
   "cell_type": "code",
   "execution_count": 217,
   "id": "bbc89a5d",
   "metadata": {},
   "outputs": [
    {
     "name": "stdout",
     "output_type": "stream",
     "text": [
      "Number of unique orders: 1834\n"
     ]
    }
   ],
   "source": [
    "print(\"Number of unique orders:\", num_orders)"
   ]
  },
  {
   "cell_type": "markdown",
   "id": "55b4244a",
   "metadata": {},
   "source": [
    "**Step 16.** What is the average revenue amount per order?  "
   ]
  },
  {
   "cell_type": "code",
   "execution_count": 218,
   "id": "2c4aaa2e",
   "metadata": {},
   "outputs": [
    {
     "name": "stdout",
     "output_type": "stream",
     "text": [
      "Average revenue per order: $18.81\n"
     ]
    }
   ],
   "source": [
    "print(\"Average revenue per order: ${:.2f}\".format(avg_revenue_per_order))"
   ]
  },
  {
   "cell_type": "markdown",
   "id": "77e31fb8",
   "metadata": {},
   "source": [
    "**Step 17.** How many different items are sold?"
   ]
  },
  {
   "cell_type": "code",
   "execution_count": 219,
   "id": "f2ea5e57",
   "metadata": {},
   "outputs": [
    {
     "name": "stdout",
     "output_type": "stream",
     "text": [
      "Number of different items sold: 50\n"
     ]
    }
   ],
   "source": [
    "print(\"Number of different items sold:\", num_different_items)"
   ]
  },
  {
   "cell_type": "markdown",
   "id": "58767dcf",
   "metadata": {},
   "source": [
    "## Question 6: Marriages and Divorces Per Capita in the U.S. (1867-2014)\n",
    "\n",
    "**Step 1.** Import the necessary libraries  \n",
    "**Step 2.** Load the dataset  \n",
    "**Step 3.** Create a line plot showing the number of marriages and divorces per capita in the U.S. between 1867 and 2014  \n",
    "**Step 4.** Label both lines and show the legend  \n",
    "**Step 5.** Don't forget to label your axes!\n"
   ]
  },
  {
   "cell_type": "code",
   "execution_count": 220,
   "id": "4aa46dd3",
   "metadata": {},
   "outputs": [
    {
     "data": {
      "image/png": "[encoded data removed]",
      "text/plain": [
       "<Figure size 1000x600 with 1 Axes>"
      ]
     },
     "metadata": {},
     "output_type": "display_data"
    }
   ],
   "source": [
    "import pandas as pd\n",
    "import matplotlib.pyplot as plt\n",
    "\n",
    "url = \"us-marriages-divorces-1867-2014.csv\"  # Load the data\n",
    "data = pd.read_csv(url)\n",
    "\n",
    "plt.figure(figsize=(10, 6))# Create a line plot\n",
    "\n",
    "plt.plot(data['Year'], data['Marriages_per_1000'], label='Marriages per 1000', color='blue')\n",
    "plt.plot(data['Year'], data['Divorces_per_1000'], label='Divorces per 1000', color='red')\n",
    "\n",
    "marriages_labels = data[data['Year'] % 10 == 0]['Marriages_per_1000']# Add data labels for 10 points\n",
    "divorces_labels = data[data['Year'] % 10 == 0]['Divorces_per_1000']\n",
    "\n",
    "for year, marriage_label, divorce_label in zip(data['Year'][::10], marriages_labels, divorces_labels):\n",
    "    plt.text(year, marriage_label, f'{marriage_label:.2f}', ha='center', va='bottom', color='blue')\n",
    "    plt.text(year, divorce_label, f'{divorce_label:.2f}', ha='center', va='top', color='red')\n",
    "\n",
    "plt.title('Marriages and Divorces per Capita in the U.S. (1867-2014)')\n",
    "plt.xlabel('Year')\n",
    "plt.ylabel('Rate per 1000')\n",
    "plt.legend()\n",
    "\n",
    "plt.tight_layout()\n",
    "plt.show()"
   ]
  },
  {
   "cell_type": "markdown",
   "id": "02ece993",
   "metadata": {},
   "source": [
    "## Question 7: Marriages and Divorces Per Capita in the U.S. (1900, 1950, and 2000)\n",
    "\n",
    "**Step 1.** Import the necessary libraries  \n",
    "**Step 2.** Load the dataset  \n",
    "**Step 3.** Filter data for the years 1900, 1950, and 2000  \n",
    "**Step 4.** Create a vertical bar chart comparing the number of marriages and divorces per capita for the selected years  \n",
    "**Step 5.** Label your axes!\n"
   ]
  },
  {
   "cell_type": "code",
   "execution_count": 222,
   "id": "07534b72",
   "metadata": {},
   "outputs": [
    {
     "data": {
      "image/png": "[encoded data removed]",
      "text/plain": [
       "<Figure size 1000x600 with 1 Axes>"
      ]
     },
     "metadata": {},
     "output_type": "display_data"
    }
   ],
   "source": [
    "import pandas as pd\n",
    "import matplotlib.pyplot as plt\n",
    "\n",
    "url = \"us-marriages-divorces-1867-2014.csv\" # Load the data\n",
    "data = pd.read_csv(url)\n",
    "\n",
    "years_of_interest = [1900, 1950, 2000]# Filter data for the years 1900, 1950, and 2000\n",
    "filtered_data = data[data['Year'].isin(years_of_interest)]\n",
    "\n",
    "plt.figure(figsize=(10, 6))# Create a vertical bar chart\n",
    "\n",
    "bar_width = 20\n",
    "marriages_bars = plt.bar(filtered_data['Year'], filtered_data['Marriages_per_1000'], width=bar_width, label='Marriages per 1000', color='blue')\n",
    "divorces_bars = plt.bar(filtered_data['Year'] + bar_width, filtered_data['Divorces_per_1000'], width=bar_width, label='Divorces per 1000', color='red')\n",
    "\n",
    "for bar in marriages_bars:# Add data labels for the bars\n",
    "    yval = bar.get_height()\n",
    "    plt.text(bar.get_x() + bar.get_width()/2.0, yval, f'{yval:.2f}', va='bottom', ha='center', color='blue')\n",
    "\n",
    "for bar in divorces_bars:\n",
    "    yval = bar.get_height()\n",
    "    plt.text(bar.get_x() + bar.get_width()/2.0, yval, f'{yval:.2f}', va='bottom', ha='center', color='red')\n",
    "\n",
    "plt.title('Marriages and Divorces per Capita in the U.S. (1900, 1950, 2000)')\n",
    "plt.xlabel('Year')\n",
    "plt.ylabel('Rate per 1000')\n",
    "plt.xticks(filtered_data['Year'] + bar_width / 2, years_of_interest)\n",
    "plt.legend()\n",
    "\n",
    "plt.tight_layout()\n",
    "plt.show()"
   ]
  },
  {
   "cell_type": "markdown",
   "id": "bea7a407",
   "metadata": {},
   "source": [
    "## Question 8: Deadliest Actors in Hollywood\n",
    "\n",
    "**Step 1.** Import the necessary libraries  \n",
    "**Step 2.** Load the dataset containing information about actors and their kill counts  \n",
    "**Step 3.** Sort the actors by their kill count  \n",
    "**Step 4.** Create a horizontal bar chart comparing the kill counts of different actors  \n",
    "**Step 5.** Label each bar with the corresponding actor's name  \n",
    "**Step 6.** Label your axes!\n"
   ]
  },
  {
   "cell_type": "code",
   "execution_count": 224,
   "id": "877a16f8",
   "metadata": {},
   "outputs": [
    {
     "data": {
      "image/png": "[encoded data removed]",
      "text/plain": [
       "<Figure size 800x600 with 1 Axes>"
      ]
     },
     "metadata": {},
     "output_type": "display_data"
    }
   ],
   "source": [
    "import pandas as pd\n",
    "import matplotlib.pyplot as plt\n",
    "\n",
    "data = pd.read_csv(\"actor_kill_counts.csv\")# Load the data\n",
    "\n",
    "sorted_data = data.sort_values(by='Count', ascending=True)# Sort the data by kill count in descending order\n",
    "\n",
    "plt.figure(figsize=(8, 6))# Create a horizontal bar chart\n",
    "\n",
    "plt.barh(sorted_data['Actor'], sorted_data['Count'], color='purple')\n",
    "plt.xlabel('Kill Count')\n",
    "plt.ylabel('Actor')\n",
    "plt.title('Deadliest Actors in Hollywood')\n",
    "plt.tight_layout()\n",
    "\n",
    "for index, value in enumerate(sorted_data['Count']):# Display the actor names on the bars\n",
    "    plt.text(value, index, str(value))\n",
    "\n",
    "plt.show()\n"
   ]
  },
  {
   "cell_type": "markdown",
   "id": "2928cf62",
   "metadata": {},
   "source": [
    "## Question 9: Assassinated Roman Emperors\n",
    "\n",
    "**Step 1.** Import the necessary libraries  \n",
    "**Step 2.** Load the dataset containing information about Roman Emperors and their fate  \n",
    "**Step 3.** Calculate the fraction of assassinated emperors  \n",
    "**Step 4.** Create a pie chart to visualize the fraction of assassinated emperors  \n",
    "**Step 5.** Ensure that the pie chart is an even circle, labels the categories, and displays percentage breakdowns\n"
   ]
  },
  {
   "cell_type": "code",
   "execution_count": 225,
   "id": "92af8e56",
   "metadata": {},
   "outputs": [
    {
     "data": {
      "image/png": "[encoded data removed]",
      "text/plain": [
       "<Figure size 900x500 with 1 Axes>"
      ]
     },
     "metadata": {},
     "output_type": "display_data"
    }
   ],
   "source": [
    "import pandas as pd\n",
    "import matplotlib.pyplot as plt\n",
    "\n",
    "data = pd.read_csv(\"roman-emperor-reigns.csv\")\n",
    "\n",
    "assassinated_count = data[data['Cause_of_Death'] == 'Assassinated']['Emperor'].count()# Count the number of emperors who were assassinated\n",
    "\n",
    "not_assassinated_count = len(data) - assassinated_count# Count the number of emperors who were not assassinated\n",
    "\n",
    "labels = ['Assassinated', 'Not Assassinated']# Create data for the pie chart\n",
    "sizes = [assassinated_count, not_assassinated_count]\n",
    "colors = ['red', 'green']\n",
    "explode = (0.1, 0)  \n",
    "\n",
    "plt.figure(figsize=(9, 5))# Create a pie chart\n",
    "plt.pie(sizes, explode=explode, labels=labels, colors=colors, autopct='%1.1f%%', shadow=True, startangle=140)\n",
    "plt.title('Fraction of Roman Emperors Assassinated')\n",
    "plt.axis('equal')  # Equal aspect ratio ensures the pie chart is circular\n",
    "\n",
    "plt.show()\n"
   ]
  },
  {
   "cell_type": "markdown",
   "id": "5d3cf4e6",
   "metadata": {},
   "source": [
    "## Question 10: Arcade Revenue vs. Computer Science PhDs\n",
    "\n",
    "**Step 1.** Import the necessary libraries  \n",
    "**Step 2.** Load the dataset containing information about arcade revenue and Computer Science PhDs  \n",
    "**Step 3.** Create a scatter plot to visualize the relationship between total arcade revenue and Computer Science PhDs  \n",
    "**Step 4.** Label your axes to provide context  \n",
    "**Step 5.** Color each dot according to its year to show the year-wise distribution\n"
   ]
  },
  {
   "cell_type": "code",
   "execution_count": 226,
   "id": "8aaed6c5",
   "metadata": {},
   "outputs": [
    {
     "data": {
      "image/png": "[encoded data removed]",
      "text/plain": [
       "<Figure size 1200x800 with 2 Axes>"
      ]
     },
     "metadata": {},
     "output_type": "display_data"
    }
   ],
   "source": [
    "import pandas as pd\n",
    "import matplotlib.pyplot as plt\n",
    "\n",
    "data = pd.read_csv(\"arcade-revenue-vs-cs-doctorates.csv\")  # Load the data\n",
    "\n",
    "plt.figure(figsize=(12, 8))  # Create a scatter plot\n",
    "\n",
    "scatter = plt.scatter(data['Total Arcade Revenue (billions)'], data['Computer Science Doctorates Awarded (US)'],\n",
    "                      c=data['Year'], cmap='viridis', s=100, alpha=0.7)\n",
    "\n",
    "plt.title('Arcade Revenue vs Computer Science PhDs (2000-2009)')\n",
    "plt.xlabel('Total Arcade Revenue (billions)')\n",
    "plt.ylabel('Computer Science Doctorates Awarded (US)')\n",
    "plt.colorbar(label='Year')\n",
    "\n",
    "for x, y, label in zip(data['Total Arcade Revenue (billions)'], data['Computer Science Doctorates Awarded (US)'],\n",
    "                       data['Computer Science Doctorates Awarded (US)']):\n",
    "    plt.text(x, y, str(label), color='black', fontsize=9, ha='right', va='bottom')# Add data labels for each point\n",
    "\n",
    "plt.show()\n"
   ]
  },
  {
   "cell_type": "code",
   "execution_count": null,
   "id": "d28835c6",
   "metadata": {},
   "outputs": [],
   "source": []
  }
 ],
 "metadata": {
  "kernelspec": {
   "display_name": "Python 3 (ipykernel)",
   "language": "python",
   "name": "python3"
  },
  "language_info": {
   "codemirror_mode": {
    "name": "ipython",
    "version": 3
   },
   "file_extension": ".py",
   "mimetype": "text/x-python",
   "name": "python",
   "nbconvert_exporter": "python",
   "pygments_lexer": "ipython3",
   "version": "3.10.9"
  }
 },
 "nbformat": 4,
 "nbformat_minor": 5
}
